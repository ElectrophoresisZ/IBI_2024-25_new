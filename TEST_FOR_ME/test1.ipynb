{
 "cells": [
  {
   "cell_type": "code",
   "execution_count": 2,
   "metadata": {},
   "outputs": [
    {
     "name": "stdout",
     "output_type": "stream",
     "text": [
      "1,1,2,3,5,8,"
     ]
    }
   ],
   "source": [
    "a, b = 0, 1\n",
    "while b < 10:\n",
    "    print(b, end = ',')\n",
    "    a, b = b, a+b"
   ]
  },
  {
   "cell_type": "code",
   "execution_count": 10,
   "metadata": {},
   "outputs": [
    {
     "name": "stdout",
     "output_type": "stream",
     "text": [
      "['ALICE', 'JERRY', 'WENDY', 'SMITH']\n",
      "<class 'list'>\n",
      "{'Google': 6, 'Runoob': 6, 'Taobao': 6}\n",
      "{'r', 'd'}\n",
      "<class 'set'>\n",
      "<generator object <genexpr> at 0x000001F9A94001C0>\n"
     ]
    },
    {
     "data": {
      "text/plain": [
       "(1, 2, 3, 4, 5, 6, 7, 8, 9)"
      ]
     },
     "execution_count": 10,
     "metadata": {},
     "output_type": "execute_result"
    }
   ],
   "source": [
    "names = ['Bob','Tom','alice','Jerry','Wendy','Smith']\n",
    "new_names = [name.upper()for name in names if len(name)>3]\n",
    "print(new_names)\n",
    "print(type(new_names))\n",
    "\n",
    "listdemo = ['Google','Runoob', 'Taobao']\n",
    "newdict = {key:len(key) for key in listdemo}\n",
    "print(newdict)\n",
    "\n",
    "a = {x for x in 'abracadabra' if x not in 'abc'}\n",
    "print(a)\n",
    "{'d', 'r'}\n",
    "print(type(a))\n",
    "\n",
    "b = (x for x in range(1,10))\n",
    "print(b)\n",
    "tuple(b)"
   ]
  },
  {
   "cell_type": "code",
   "execution_count": null,
   "metadata": {},
   "outputs": [
    {
     "name": "stdout",
     "output_type": "stream",
     "text": [
      "1 2 3 4 "
     ]
    }
   ],
   "source": [
    "list=[1,2,3,4]\n",
    "it = iter(list) \n",
    "for x in it:\n",
    "    print(x, end = ' ')"
   ]
  },
  {
   "cell_type": "code",
   "execution_count": null,
   "metadata": {},
   "outputs": [
    {
     "name": "stdout",
     "output_type": "stream",
     "text": [
      "1\n",
      "2\n",
      "3\n",
      "4\n"
     ]
    },
    {
     "ename": "SystemExit",
     "evalue": "",
     "output_type": "error",
     "traceback": [
      "An exception has occurred, use %tb to see the full traceback.\n",
      "\u001b[1;31mSystemExit\u001b[0m\n"
     ]
    },
    {
     "name": "stderr",
     "output_type": "stream",
     "text": [
      "e:\\Anacoda\\Lib\\site-packages\\IPython\\core\\interactiveshell.py:3585: UserWarning: To exit: use 'exit', 'quit', or Ctrl-D.\n",
      "  warn(\"To exit: use 'exit', 'quit', or Ctrl-D.\", stacklevel=1)\n"
     ]
    }
   ],
   "source": [
    "import sys\n",
    "list = [1,2,3,4]\n",
    "it = iter(list)\n",
    "while True:\n",
    "\n",
    "    try:\n",
    "        print (next(it))\n",
    "    except StopIteration:\n",
    "        sys.exit()                                 "
   ]
  },
  {
   "cell_type": "code",
   "execution_count": null,
   "metadata": {},
   "outputs": [
    {
     "name": "stdout",
     "output_type": "stream",
     "text": [
      "1 2 3 4 5 6 7 8 9 10 11 12 13 14 15 16 17 18 19 20 "
     ]
    },
    {
     "ename": "StopAsyncIteration",
     "evalue": "",
     "output_type": "error",
     "traceback": [
      "\u001b[1;31m---------------------------------------------------------------------------\u001b[0m",
      "\u001b[1;31mStopAsyncIteration\u001b[0m                        Traceback (most recent call last)",
      "Cell \u001b[1;32mIn[28], line 17\u001b[0m\n\u001b[0;32m     14\u001b[0m myclass \u001b[38;5;241m=\u001b[39m Mynumber()\n\u001b[0;32m     15\u001b[0m myiter \u001b[38;5;241m=\u001b[39m \u001b[38;5;28miter\u001b[39m(myclass)\n\u001b[1;32m---> 17\u001b[0m \u001b[38;5;28;01mfor\u001b[39;00m x \u001b[38;5;129;01min\u001b[39;00m myiter:\n\u001b[0;32m     18\u001b[0m     \u001b[38;5;28mprint\u001b[39m(x, end \u001b[38;5;241m=\u001b[39m \u001b[38;5;124m'\u001b[39m\u001b[38;5;124m \u001b[39m\u001b[38;5;124m'\u001b[39m)\n",
      "Cell \u001b[1;32mIn[28], line 12\u001b[0m, in \u001b[0;36mMynumber.__next__\u001b[1;34m(self)\u001b[0m\n\u001b[0;32m     10\u001b[0m     \u001b[38;5;28;01mreturn\u001b[39;00m x\n\u001b[0;32m     11\u001b[0m \u001b[38;5;28;01melse\u001b[39;00m:\n\u001b[1;32m---> 12\u001b[0m     \u001b[38;5;28;01mraise\u001b[39;00m \u001b[38;5;167;01mStopAsyncIteration\u001b[39;00m\n",
      "\u001b[1;31mStopAsyncIteration\u001b[0m: "
     ]
    }
   ],
   "source": [
    "class Mynumber:\n",
    "    def __iter__(self):                         #__init__?\n",
    "        self.a =1\n",
    "        return self\n",
    "    \n",
    "    def __next__(self):\n",
    "        if self.a <= 20:\n",
    "            x = self.a\n",
    "            self.a += 1\n",
    "            return x\n",
    "        else:\n",
    "            raise StopAsyncIteration\n",
    "    \n",
    "myclass = Mynumber()\n",
    "myiter = iter(myclass)\n",
    "\n",
    "for x in myiter:\n",
    "    print(x, end = ' ')"
   ]
  },
  {
   "cell_type": "code",
   "execution_count": 31,
   "metadata": {},
   "outputs": [
    {
     "name": "stdout",
     "output_type": "stream",
     "text": [
      "5 4 3 2 1 "
     ]
    }
   ],
   "source": [
    "def countdown(n):\n",
    "    while n > 0:\n",
    "        yield n\n",
    "        n -=1\n",
    "\n",
    "generator = countdown(5)\n",
    "for value in generator:\n",
    "    print(value, end = ' ')\n"
   ]
  },
  {
   "cell_type": "code",
   "execution_count": null,
   "metadata": {},
   "outputs": [
    {
     "name": "stdout",
     "output_type": "stream",
     "text": [
      "0 1 1 2 3 5 8 13 21 34 55 "
     ]
    },
    {
     "ename": "SystemExit",
     "evalue": "",
     "output_type": "error",
     "traceback": [
      "An exception has occurred, use %tb to see the full traceback.\n",
      "\u001b[1;31mSystemExit\u001b[0m\n"
     ]
    }
   ],
   "source": [
    "import sys\n",
    "\n",
    "def fibonacci(n):\n",
    "    a, b, counter = 0, 1, 0\n",
    "    while True:\n",
    "        if counter > n:\n",
    "            return                              \n",
    "        yield a\n",
    "        a, b = b, a+b\n",
    "        counter +=1\n",
    "f = fibonacci(10)\n",
    "\n",
    "while True:\n",
    "    try:\n",
    "        print(next(f), end = ' ')\n",
    "    except StopIteration:\n",
    "        sys.exit()"
   ]
  },
  {
   "cell_type": "code",
   "execution_count": 35,
   "metadata": {},
   "outputs": [
    {
     "name": "stdout",
     "output_type": "stream",
     "text": [
      "[10, 20, 30, [1, 2, 3, 4]]\n"
     ]
    }
   ],
   "source": [
    "def changeme(mylist):\n",
    "    mylist.append([1,2,3,4])\n",
    "    print(mylist)\n",
    "    return\n",
    "\n",
    "mylist = [10,20,30]\n",
    "changeme(mylist)\n"
   ]
  },
  {
   "cell_type": "code",
   "execution_count": 42,
   "metadata": {},
   "outputs": [
    {
     "name": "stdout",
     "output_type": "stream",
     "text": [
      "输出: \n",
      "70\n",
      "(60,)\n",
      "输出: \n",
      "{'a': 2, 'b': 3}\n"
     ]
    }
   ],
   "source": [
    "def printinfo( arg1, *vartuple ):\n",
    "   \"打印任何传入的参数\"\n",
    "   print (\"输出: \")\n",
    "   print (arg1)\n",
    "   print (vartuple)\n",
    " \n",
    "# 调用printinfo 函数\n",
    "printinfo(70, 60)\n",
    "\n",
    "def printinfo(**vardict ):\n",
    "   \"打印任何传入的参数\"\n",
    "   print (\"输出: \")\n",
    "   #print (arg1)\n",
    "   print (vardict)\n",
    " \n",
    "# 调用printinfo 函数\n",
    "printinfo(a=2,b=3)"
   ]
  },
  {
   "cell_type": "code",
   "execution_count": 47,
   "metadata": {},
   "outputs": [
    {
     "name": "stdout",
     "output_type": "stream",
     "text": [
      "21\n"
     ]
    },
    {
     "data": {
      "text/plain": [
       "22"
      ]
     },
     "execution_count": 47,
     "metadata": {},
     "output_type": "execute_result"
    }
   ],
   "source": [
    "x = lambda a, b : a + 10 + b\n",
    "print(x(5, 6))\n",
    "\n",
    "def myfunc(n):\n",
    "  return lambda a : a * n\n",
    "double = myfunc(2)\n",
    "double(11)"
   ]
  },
  {
   "cell_type": "code",
   "execution_count": null,
   "metadata": {},
   "outputs": [
    {
     "name": "stdout",
     "output_type": "stream",
     "text": [
      "[1, 4, 9, 16, 25]\n",
      "[2, 4, 6, 8]\n"
     ]
    }
   ],
   "source": [
    "numbers = [1, 2, 3, 4, 5]\n",
    "squared = list(map(lambda x: x**2, numbers))                \n",
    "print(squared) \n",
    "\n",
    "numbers = [1, 2, 3, 4, 5, 6, 7, 8]\n",
    "even_numbers = list(filter(lambda x: x % 2 == 0, numbers))\n",
    "print(even_numbers) "
   ]
  },
  {
   "cell_type": "code",
   "execution_count": 3,
   "metadata": {},
   "outputs": [
    {
     "name": "stdout",
     "output_type": "stream",
     "text": [
      "120\n"
     ]
    }
   ],
   "source": [
    "from functools import reduce\n",
    " \n",
    "numbers = [1, 2, 3, 4, 5]\n",
    " \n",
    "# 使用 reduce() 和 lambda 函数计算乘积\n",
    "product = reduce(lambda x, y: x * y, numbers)\n",
    " \n",
    "print(product) "
   ]
  },
  {
   "cell_type": "code",
   "execution_count": null,
   "metadata": {},
   "outputs": [
    {
     "name": "stdout",
     "output_type": "stream",
     "text": [
      "Hello, Alice!\n",
      "位置参数: (1, 2, 3)\n",
      "关键字参数: {'a': 4, 'b': 5}\n"
     ]
    }
   ],
   "source": [
    "def repeat(n):\n",
    "    def decorator(func):\n",
    "        def wrapper(*args, **kwargs):\n",
    "            for _ in range(n):\n",
    "                result = func(*args, **kwargs)              \n",
    "                return result\n",
    "        return wrapper\n",
    "    return decorator\n",
    "                                           \n",
    "@repeat(3)\n",
    "def greet(name):\n",
    "    print(f\"Hello, {name}!\")\n",
    "greet(\"Alice\")\n",
    "\n",
    "#def test_func(*args, **kwargs):\n",
    "#  print(\"位置参数:\", args)\n",
    "#  print(\"关键字参数:\", kwargs)\n",
    "#  test_func(1, 2, 3, a=4, b=5)\n"
   ]
  },
  {
   "cell_type": "code",
   "execution_count": null,
   "metadata": {},
   "outputs": [],
   "source": [
    "class DecoratorClass:\n",
    "    def __init__(self, func):\n",
    "        self.func = func\n",
    "   \n",
    "    def __call__(self, *args, **kwargs):\n",
    "        # 在调用原始函数之前/之后执行的代码\n",
    "        result = self.func(*args, **kwargs)            \n",
    "        # 在调用原始函数之后执行的代码\n",
    "        return result\n",
    "\n",
    "@DecoratorClass\n",
    "def my_function():\n",
    "    pass"
   ]
  },
  {
   "cell_type": "code",
   "execution_count": 2,
   "metadata": {},
   "outputs": [
    {
     "name": "stdout",
     "output_type": "stream",
     "text": [
      "队列状态: deque(['a', 'b', 'c'])\n",
      "移除的元素: a\n",
      "队列状态: deque(['b', 'c'])\n"
     ]
    }
   ],
   "source": [
    "from collections import deque\n",
    "\n",
    "# 创建一个空队列\n",
    "queue = deque()\n",
    "\n",
    "# 向队尾添加元素\n",
    "queue.append('a')\n",
    "queue.append('b')\n",
    "queue.append('c')\n",
    "\n",
    "print(\"队列状态:\", queue)\n",
    "\n",
    "first_element = queue.popleft()\n",
    "print(\"移除的元素:\", first_element)  \n",
    "print(\"队列状态:\", queue)"
   ]
  },
  {
   "cell_type": "code",
   "execution_count": 5,
   "metadata": {},
   "outputs": [
    {
     "name": "stdout",
     "output_type": "stream",
     "text": [
      "Jack\n",
      "Nightmare\n",
      "3\n",
      "<__main__.Brave_man object at 0x00000168AB572EA0>\n"
     ]
    }
   ],
   "source": [
    "class Brave_man():\n",
    "    def __init__(self):\n",
    "        self.excellent_heroes = []\n",
    "    \n",
    "    def add_heroes(self, hero):\n",
    "        self.excellent_heroes.append(hero)\n",
    "\n",
    "    def most_excellent_hero(self):\n",
    "        if not self.no_heroes():\n",
    "            return self.excellent_heroes.pop(0)\n",
    "        else:\n",
    "            raise IndexError('You must get an error!There are so many excellent heroes!')\n",
    "    \n",
    "    def second_excellent_hero(self):\n",
    "        if not self.no_heroes():\n",
    "            return self.excellent_heroes[0]\n",
    "        else:\n",
    "            raise IndexError('You are looking down upon our estate owner!')\n",
    "        \n",
    "    def no_heroes(self):\n",
    "        return len(self.excellent_heroes) == 0\n",
    "    \n",
    "    def quanlity_of_excellent_heroes(self):\n",
    "        return len(self.excellent_heroes)\n",
    "    \n",
    "Heroes = Brave_man()\n",
    "Heroes.add_heroes('Jack')\n",
    "Heroes.add_heroes('Nightmare')\n",
    "Heroes.add_heroes('Clown')\n",
    "Heroes.add_heroes('Doctor')\n",
    "\n",
    "print(Heroes.most_excellent_hero())\n",
    "print(Heroes.second_excellent_hero())\n",
    "print(Heroes.quanlity_of_excellent_heroes())\n",
    "print(Heroes)\n",
    "    \n"
   ]
  },
  {
   "cell_type": "code",
   "execution_count": 10,
   "metadata": {},
   "outputs": [
    {
     "name": "stdout",
     "output_type": "stream",
     "text": [
      "[[1, 2, 3, 4], [5, 6, 7, 8], [9, 10, 11, 12]]\n",
      "[[1, 5, 9], [2, 6, 10], [3, 7, 11], [4, 8, 12]]\n",
      "[[1, 5, 9], [2, 6, 10], [3, 7, 11], [4, 8, 12]]\n"
     ]
    }
   ],
   "source": [
    "[str(round(355/113, i)) for i in range(1, 6)]\n",
    "matrix = [\n",
    "    [1, 2, 3, 4],\n",
    "    [5, 6, 7, 8],\n",
    "    [9, 10, 11, 12],\n",
    " ]\n",
    "print(matrix)\n",
    "print([[row[i] for row in matrix] for i in range(4)])\n",
    "\n",
    "transposed = []\n",
    "for i in range(4):\n",
    "   # the following 3 lines implement the nested listcomp\n",
    "    transposed_row = []\n",
    "    for row in matrix:\n",
    "        transposed_row.append(row[i])\n",
    "    transposed.append(transposed_row)\n",
    "print(transposed)"
   ]
  },
  {
   "cell_type": "code",
   "execution_count": null,
   "metadata": {},
   "outputs": [],
   "source": [
    "a = set('abracadabra')\n",
    "b = set('alacazam')\n",
    "print(a)                                  # a 中唯一的字母\n",
    "#{'a', 'r', 'b', 'c', 'd'}\n",
    "print(a - b)                              # 在 a 中的字母，但不在 b 中\n",
    "#{'r', 'd', 'b'}\n",
    "print(a | b)                              # 在 a 或 b 中的字母\n",
    "#{'a', 'c', 'r', 'd', 'b', 'm', 'z', 'l'}\n",
    "print(a & b)                              # 在 a 和 b 中都有的字母\n",
    "#{'a', 'c'}\n",
    "print(a ^ b)                              # 在 a 或 b 中的字母，但不同时在 a 和 b 中 \n",
    "#{'r', 'd', 'b', 'm', 'z', 'l'}"
   ]
  },
  {
   "cell_type": "code",
   "execution_count": 16,
   "metadata": {},
   "outputs": [
    {
     "name": "stdout",
     "output_type": "stream",
     "text": [
      "{'sape': 4139, 'guido': 4127, 'jack': 4098}\n",
      "gallahad the pure\n",
      "robin the brave\n",
      "0 tic\n",
      "1 tac\n",
      "2 toe\n"
     ]
    }
   ],
   "source": [
    "#dict([('sape', 4139), ('guido', 4127), ('jack', 4098)])\n",
    "print(dict([('sape', 4139), ('guido', 4127), ('jack', 4098)]))\n",
    "\n",
    "knights = {'gallahad': 'the pure', 'robin': 'the brave'}\n",
    "for k, v in knights.items():\n",
    "    print(k, v)\n",
    "\n",
    "for i, v in enumerate(['tic', 'tac', 'toe']):\n",
    "    print(i, v)"
   ]
  },
  {
   "cell_type": "code",
   "execution_count": null,
   "metadata": {},
   "outputs": [],
   "source": [
    "questions = ['name', 'quest', 'favorite color']\n",
    "answers = ['lancelot', 'the holy grail', 'blue']\n",
    "for q, a in zip(questions, answers):\n",
    "    print('What is your {0}?  It is {1}.'.format(q, a))\n",
    "\n",
    "basket = ['apple', 'orange', 'apple', 'pear', 'orange', 'banana']\n",
    "for f in sorted(set(basket)):\n",
    "    print(f)"
   ]
  },
  {
   "cell_type": "code",
   "execution_count": 21,
   "metadata": {},
   "outputs": [
    {
     "name": "stdout",
     "output_type": "stream",
     "text": [
      "命令行参数如下:\n",
      "e:\\Anacoda\\Lib\\site-packages\\ipykernel_launcher.py\n",
      "--f=c:\\Users\\Administrator\\AppData\\Roaming\\jupyter\\runtime\\kernel-v3c2504491afe43f483699b3ec56de4c269ebc851b.json\n",
      "\n",
      "\n",
      "Python 路径为： ['c:\\\\Users\\\\Administrator\\\\Desktop\\\\IBI\\\\ElectrophoresisZ.github.io\\\\TEST_FOR_ME', 'e:\\\\Anacoda\\\\python312.zip', 'e:\\\\Anacoda\\\\DLLs', 'e:\\\\Anacoda\\\\Lib', 'e:\\\\Anacoda', '', 'e:\\\\Anacoda\\\\Lib\\\\site-packages', 'e:\\\\Anacoda\\\\Lib\\\\site-packages\\\\win32', 'e:\\\\Anacoda\\\\Lib\\\\site-packages\\\\win32\\\\lib', 'e:\\\\Anacoda\\\\Lib\\\\site-packages\\\\Pythonwin', 'e:\\\\Anacoda\\\\Lib\\\\site-packages\\\\setuptools\\\\_vendor'] \n",
      "\n"
     ]
    }
   ],
   "source": [
    "import sys\n",
    " \n",
    "print('命令行参数如下:')\n",
    "for i in sys.argv:\n",
    "   print(i)\n",
    " \n",
    "print('\\n\\nPython 路径为：', sys.path, '\\n')"
   ]
  },
  {
   "cell_type": "code",
   "execution_count": null,
   "metadata": {},
   "outputs": [],
   "source": [
    "import sys\n",
    "sys.path\n",
    "dir()"
   ]
  },
  {
   "cell_type": "code",
   "execution_count": null,
   "metadata": {},
   "outputs": [],
   "source": [
    "if __name__ == \"__main__\":\n",
    "    # 这里的代码只有在模块作为主程序运行时才会执行      \n",
    "    Helloworld()\n",
    "    from test1 import *\n",
    "    #import test1\n",
    "    Helloworld()                                       "
   ]
  },
  {
   "cell_type": "code",
   "execution_count": null,
   "metadata": {},
   "outputs": [
    {
     "name": "stdout",
     "output_type": "stream",
     "text": [
      "模块的 __name__ 值: __main__\n"
     ]
    }
   ],
   "source": [
    "print(f\"模块的 __name__ 值: {__name__}\")"
   ]
  },
  {
   "cell_type": "code",
   "execution_count": null,
   "metadata": {},
   "outputs": [
    {
     "name": "stdout",
     "output_type": "stream",
     "text": [
      "x 的值为： 32.5,  y 的值为：40000...\n",
      " 1   1    1\n",
      " 2   4    8\n",
      " 3   9   27\n",
      " 4  16   64\n",
      " 5  25  125\n",
      " 6  36  216\n",
      " 7  49  343\n",
      " 8  64  512\n",
      " 9  81  729\n",
      "10 100 1000\n",
      " 1   1    1\n",
      " 2   4    8\n",
      " 3   9   27\n",
      " 4  16   64\n",
      " 5  25  125\n",
      " 6  36  216\n",
      " 7  49  343\n",
      " 8  64  512\n",
      " 9  81  729\n",
      "10 100 1000\n"
     ]
    }
   ],
   "source": [
    "x = 10 * 3.25\n",
    "y = 200 * 200\n",
    "s = 'x 的值为： ' + repr(x) + ',  y 的值为：' + repr(y) + '...'\n",
    "print(s)\n",
    "\n",
    "for x in range(1, 11):\n",
    "    print(repr(x).rjust(2), repr(x*x).rjust(3), end=' ')\n",
    "    # 注意前一行 'end' 的使用\n",
    "    print(repr(x*x*x).rjust(4))\n",
    "\n",
    "for x in range(1, 11):\n",
    "    print('{0:2d} {1:3d} {2:4d}'.format(x, x*x, x*x*x))         #位置；整数的位数"
   ]
  },
  {
   "cell_type": "code",
   "execution_count": null,
   "metadata": {},
   "outputs": [
    {
     "name": "stdout",
     "output_type": "stream",
     "text": [
      "Google 和 Runoob\n",
      "常量 PI 的值近似为： 3.141592653589793。\n",
      "常量 PI 的值近似为： 3.141592653589793。\n",
      "常量 PI 的值近似为 3.142。\n",
      "Google     ==>          1\n",
      "Runoob     ==>          2\n",
      "Taobao     ==>          3\n",
      "Runoob: 2; Google: 1; Taobao: 3\n",
      "Runoob: 2; Google: 1; Taobao: 3\n",
      "常量 PI 的值近似为：3.1415926536。\n"
     ]
    }
   ],
   "source": [
    "'0.12342'.zfill(5)\n",
    "print('{0} 和 {1}'.format('Google', 'Runoob')) \n",
    "\n",
    "import math\n",
    "print('常量 PI 的值近似为： {!s}。'.format(math.pi)) #str()\n",
    "print('常量 PI 的值近似为： {!r}。'.format(math.pi)) #repr()\n",
    "print('常量 PI 的值近似为 {0:.3f}。'.format(math.pi))\n",
    "\n",
    "table = {'Google': 1, 'Runoob': 2, 'Taobao': 3}\n",
    "for name, number in table.items():\n",
    "    print('{0:10} ==> {1:10d}'.format(name, number))           \n",
    "\n",
    "print('Runoob: {0[Runoob]:d}; Google: {0[Google]:d}; Taobao: {0[Taobao]:d}'.format(table))\n",
    "print('Runoob: {Runoob:d}; Google: {Google:d}; Taobao: {Taobao:d}'.format(**table))\n",
    "print('常量 PI 的值近似为：%5.10f。' % math.pi)              #最小总宽度是五个字符，保留十位小数"
   ]
  },
  {
   "cell_type": "code",
   "execution_count": 39,
   "metadata": {},
   "outputs": [],
   "source": [
    "f = open('test1.txt', 'w')\n",
    "Word1 = '杰克在低阶局拥有不错的胜率，所以暂时不考虑调整。\\n小提琴在低阶也拥有不错的胜率，所以暂时不考虑调整。'\n",
    "f.write(Word1)\n",
    "f.close()\n",
    "\n",
    "#f = open('test1.txt', 'w')\n",
    "#Describe = ('杰克','玩这么强的监管自己不会笑吗')\n",
    "#f.write('str(Describe)')\n",
    "#f.close()"
   ]
  },
  {
   "cell_type": "code",
   "execution_count": null,
   "metadata": {},
   "outputs": [
    {
     "name": "stdout",
     "output_type": "stream",
     "text": [
      "0\n",
      "[b'\\xbd\\x8e\\xe9\\x98\\xb6\\xe5\\xb1\\x80\\xe6\\x8b\\xa5\\xe6\\x9c\\x89\\xe4\\xb8\\x8d\\xe9\\x94\\x99\\xe7\\x9a\\x84\\xe8\\x83\\x9c\\xe7\\x8e\\x87\\xef\\xbc\\x8c\\xe6\\x89\\x80\\xe4\\xbb\\xa5\\xe6\\x9a\\x82\\xe6\\x97\\xb6\\xe4\\xb8\\x8d\\xe8\\x80\\x83\\xe8\\x99\\x91\\xe8\\xb0\\x83\\xe6\\x95\\xb4\\xe3\\x80\\x82\\r\\n', b'\\xe5\\xb0\\x8f\\xe6\\x8f\\x90\\xe7\\x90\\xb4\\xe5\\x9c\\xa8\\xe4\\xbd\\x8e\\xe9\\x98\\xb6\\xe4\\xb9\\x9f\\xe6\\x8b\\xa5\\xe6\\x9c\\x89\\xe4\\xb8\\x8d\\xe9\\x94\\x99\\xe7\\x9a\\x84\\xe8\\x83\\x9c\\xe7\\x8e\\x87\\xef\\xbc\\x8c\\xe6\\x89\\x80\\xe4\\xbb\\xa5\\xe6\\x9a\\x82\\xe6\\x97\\xb6\\xe4\\xb8\\x8d\\xe8\\x80\\x83\\xe8\\x99\\x91\\xe8\\xb0\\x83\\xe6\\x95\\xb4\\xe3\\x80\\x82']\n"
     ]
    },
    {
     "data": {
      "text/plain": [
       "4"
      ]
     },
     "execution_count": 30,
     "metadata": {},
     "output_type": "execute_result"
    }
   ],
   "source": [
    "f = open('test1.txt', 'rb+')\n",
    "print(f.tell())\n",
    "Word1 = b'1233445543'\n",
    "f.write(Word1)                         \n",
    "str1 = f.readlines()\n",
    "print(str1)\n",
    "f.seek(4)\n",
    "#"
   ]
  },
  {
   "cell_type": "code",
   "execution_count": 9,
   "metadata": {},
   "outputs": [
    {
     "name": "stdout",
     "output_type": "stream",
     "text": [
      "{'a': [1, 2.0, 3, (4+6j)], 'b': ('string', 'Unicode string'), 'c': None}\n",
      "[1, 2, 3, [...]]\n"
     ]
    }
   ],
   "source": [
    "import pickle                                   \n",
    "\n",
    "# 使用pickle模块将数据对象保存到文件\n",
    "data1 = {'a': [1, 2.0, 3, 4+6j],\n",
    "         'b': ('string', u'Unicode string'),\n",
    "         'c': None}\n",
    "\n",
    "selfref_list = [1, 2, 3]\n",
    "selfref_list.append(selfref_list)\n",
    "\n",
    "output = open('data1.pkl', 'wb') #write binary 图片+序列\n",
    "\n",
    "# Pickle dictionary using protocol 0.\n",
    "pickle.dump(data1, output)     #存储成一个文件格式\n",
    "\n",
    "# Pickle the list using the highest protocol available.\n",
    "pickle.dump(selfref_list, output, -1)    #使用二进制协议\n",
    "\n",
    "with open('data1.pkl','rb') as f: \n",
    "    data1load = pickle.load(f)\n",
    "    selfref_listload = pickle.load(f)\n",
    "\n",
    "print(data1load)\n",
    "print(selfref_listload)\n",
    "output.close()"
   ]
  },
  {
   "cell_type": "code",
   "execution_count": null,
   "metadata": {},
   "outputs": [],
   "source": [
    "import pprint, pickle\n",
    "\n",
    "#使用pickle模块从文件中重构python对象\n",
    "pkl_file = open('data.pkl', 'rb')\n",
    "\n",
    "data1 = pickle.load(pkl_file)\n",
    "pprint.pprint(data1)\n",
    "\n",
    "data2 = pickle.load(pkl_file)\n",
    "pprint.pprint(data2)\n",
    "\n",
    "pkl_file.close()"
   ]
  },
  {
   "cell_type": "code",
   "execution_count": 15,
   "metadata": {},
   "outputs": [
    {
     "name": "stdout",
     "output_type": "stream",
     "text": [
      "Could not convert data to an integer.\n",
      "cannot open --f=c:\\Users\\Administrator\\AppData\\Roaming\\jupyter\\runtime\\kernel-v3d401916e5338211d8f9f8c7e2d5369e868f42c35.json\n"
     ]
    }
   ],
   "source": [
    "import sys\n",
    "\n",
    "try:\n",
    "    f = open('test1.txt')\n",
    "    s = f.readline()\n",
    "    i = int(s.strip())\n",
    "except OSError as err:   #系统报错                           \n",
    "    print(\"OS error: {0}\".format(err))   #取format里的第一个参数\n",
    "except ValueError:\n",
    "    print(\"Could not convert data to an integer.\")\n",
    "except:\n",
    "    print(\"Unexpected error:\", sys.exc_info()[0]) #返回三个值(异常的类型，异常的位置，调用栈的信息)\n",
    "    raise\n",
    "\n",
    "for arg in sys.argv[1:]:                               #跳过自身的文件名\n",
    "    try:\n",
    "        f = open(arg, 'r')\n",
    "    except IOError:\n",
    "        print('cannot open', arg)\n",
    "    else:\n",
    "        print(arg, 'has', len(f.readlines()), 'lines')\n",
    "        f.close()"
   ]
  },
  {
   "cell_type": "code",
   "execution_count": 16,
   "metadata": {},
   "outputs": [
    {
     "name": "stdout",
     "output_type": "stream",
     "text": [
      "ArithmeticError\n",
      "这句话，无论异常是否发生都会执行。\n"
     ]
    }
   ],
   "source": [
    "def runoob():\n",
    "    assert False, 'ArithmeticError'\n",
    "    \n",
    "try:\n",
    "    runoob()                                        \n",
    "except AssertionError as error:     \n",
    "    print(error)\n",
    "else:\n",
    "    try:\n",
    "        with open('function1.log') as file:\n",
    "            read_data = file.read()\n",
    "    except FileNotFoundError as fnf_error:\n",
    "        print(fnf_error)\n",
    "finally:\n",
    "    print('这句话，无论异常是否发生都会执行。')"
   ]
  },
  {
   "cell_type": "code",
   "execution_count": 57,
   "metadata": {},
   "outputs": [
    {
     "name": "stdout",
     "output_type": "stream",
     "text": [
      "An exception flew by!\n"
     ]
    },
    {
     "ename": "NameError",
     "evalue": "HiThere",
     "output_type": "error",
     "traceback": [
      "\u001b[1;31m---------------------------------------------------------------------------\u001b[0m",
      "\u001b[1;31mNameError\u001b[0m                                 Traceback (most recent call last)",
      "Cell \u001b[1;32mIn[57], line 2\u001b[0m\n\u001b[0;32m      1\u001b[0m \u001b[38;5;28;01mtry\u001b[39;00m:\n\u001b[1;32m----> 2\u001b[0m     \u001b[38;5;28;01mraise\u001b[39;00m \u001b[38;5;167;01mNameError\u001b[39;00m(\u001b[38;5;124m'\u001b[39m\u001b[38;5;124mHiThere\u001b[39m\u001b[38;5;124m'\u001b[39m)  \u001b[38;5;66;03m# 模拟一个异常。\u001b[39;00m\n\u001b[0;32m      3\u001b[0m \u001b[38;5;28;01mexcept\u001b[39;00m \u001b[38;5;167;01mNameError\u001b[39;00m:\n\u001b[0;32m      4\u001b[0m     \u001b[38;5;28mprint\u001b[39m(\u001b[38;5;124m'\u001b[39m\u001b[38;5;124mAn exception flew by!\u001b[39m\u001b[38;5;124m'\u001b[39m)\n",
      "\u001b[1;31mNameError\u001b[0m: HiThere"
     ]
    }
   ],
   "source": [
    "try:\n",
    "    raise NameError('HiThere')  # 模拟一个异常。\n",
    "except NameError:\n",
    "    print('An exception flew by!')\n",
    "    raise"
   ]
  },
  {
   "cell_type": "code",
   "execution_count": 18,
   "metadata": {},
   "outputs": [
    {
     "name": "stdout",
     "output_type": "stream",
     "text": [
      "My exception occurred, value: 4\n"
     ]
    },
    {
     "ename": "MyError",
     "evalue": "'oops!'",
     "output_type": "error",
     "traceback": [
      "\u001b[1;31m---------------------------------------------------------------------------\u001b[0m",
      "\u001b[1;31mMyError\u001b[0m                                   Traceback (most recent call last)",
      "Cell \u001b[1;32mIn[18], line 12\u001b[0m\n\u001b[0;32m      9\u001b[0m \u001b[38;5;28;01mexcept\u001b[39;00m MyError \u001b[38;5;28;01mas\u001b[39;00m e:\n\u001b[0;32m     10\u001b[0m     \u001b[38;5;28mprint\u001b[39m(\u001b[38;5;124m'\u001b[39m\u001b[38;5;124mMy exception occurred, value:\u001b[39m\u001b[38;5;124m'\u001b[39m, e\u001b[38;5;241m.\u001b[39mvalue)             \u001b[38;5;66;03m#???????\u001b[39;00m\n\u001b[1;32m---> 12\u001b[0m \u001b[38;5;28;01mraise\u001b[39;00m MyError(\u001b[38;5;124m'\u001b[39m\u001b[38;5;124moops!\u001b[39m\u001b[38;5;124m'\u001b[39m)\n",
      "\u001b[1;31mMyError\u001b[0m: 'oops!'"
     ]
    }
   ],
   "source": [
    "class MyError(Exception):\n",
    "        def __init__(self, value):\n",
    "            self.value = value\n",
    "\n",
    "        def __str__(self):\n",
    "            return repr(self.value)\n",
    "try:\n",
    "    raise MyError(2*2)\n",
    "except MyError as e:\n",
    "    print('My exception occurred, value:', e.value)             #???????\n",
    "\n",
    "raise MyError('oops!')\n",
    "\n",
    "\n"
   ]
  },
  {
   "cell_type": "code",
   "execution_count": null,
   "metadata": {},
   "outputs": [],
   "source": [
    "class Error(Exception):\n",
    "    \"\"\"Base class for exceptions in this module.\"\"\"\n",
    "    pass\n",
    "\n",
    "class InputError(Error):\n",
    "    \"\"\"Exception raised for errors in the input.\n",
    "\n",
    "    Attributes:\n",
    "        expression -- input expression in which the error occurred\n",
    "        message -- explanation of the error\n",
    "    \"\"\"\n",
    "\n",
    "    def __init__(self, expression, message):\n",
    "        self.expression = expression\n",
    "        self.message = message\n",
    "\n",
    "class TransitionError(Error):\n",
    "    \"\"\"Raised when an operation attempts a state transition that's not\n",
    "    allowed.\n",
    "\n",
    "    Attributes:\n",
    "        previous -- state at beginning of transition\n",
    "        next -- attempted new state\n",
    "        message -- explanation of why the specific transition is not allowed\n",
    "    \"\"\"\n",
    "\n",
    "    def __init__(self, previous, next, message):\n",
    "        self.previous = previous\n",
    "        self.next = next\n",
    "        self.message = message"
   ]
  },
  {
   "cell_type": "code",
   "execution_count": 3,
   "metadata": {},
   "outputs": [
    {
     "name": "stdout",
     "output_type": "stream",
     "text": [
      "Goodbye, world!\n"
     ]
    },
    {
     "ename": "KeyboardInterrupt",
     "evalue": "",
     "output_type": "error",
     "traceback": [
      "\u001b[1;31m---------------------------------------------------------------------------\u001b[0m",
      "\u001b[1;31mKeyboardInterrupt\u001b[0m                         Traceback (most recent call last)",
      "Cell \u001b[1;32mIn[3], line 2\u001b[0m\n\u001b[0;32m      1\u001b[0m \u001b[38;5;28;01mtry\u001b[39;00m:\n\u001b[1;32m----> 2\u001b[0m     \u001b[38;5;28;01mraise\u001b[39;00m \u001b[38;5;167;01mKeyboardInterrupt\u001b[39;00m\n\u001b[0;32m      3\u001b[0m \u001b[38;5;28;01mfinally\u001b[39;00m:\n\u001b[0;32m      4\u001b[0m     \u001b[38;5;28mprint\u001b[39m(\u001b[38;5;124m'\u001b[39m\u001b[38;5;124mGoodbye, world!\u001b[39m\u001b[38;5;124m'\u001b[39m)\n",
      "\u001b[1;31mKeyboardInterrupt\u001b[0m: "
     ]
    }
   ],
   "source": [
    "try:\n",
    "    raise KeyboardInterrupt\n",
    "finally:\n",
    "    print('Goodbye, world!')"
   ]
  },
  {
   "cell_type": "code",
   "execution_count": 5,
   "metadata": {},
   "outputs": [
    {
     "name": "stdout",
     "output_type": "stream",
     "text": [
      "12356"
     ]
    }
   ],
   "source": [
    "with open(\"test2.txt\") as f:\n",
    "    for line in f:\n",
    "        print(line, end=\"\")"
   ]
  },
  {
   "cell_type": "code",
   "execution_count": 10,
   "metadata": {},
   "outputs": [
    {
     "name": "stdout",
     "output_type": "stream",
     "text": [
      "runoob 说: 我 10 岁。\n",
      "ken 说: 我 10 岁了，我在读 3 年级\n",
      "我叫 Tim，我是一个演说家，我演讲的主题是 Python\n"
     ]
    }
   ],
   "source": [
    "class people:\n",
    "    #定义基本属性\n",
    "    #name = ''\n",
    "    #age = 0\n",
    "    #定义私有属性,私有属性在类外部无法直接进行访问\n",
    "    #__weight = 0\n",
    "    #定义构造方法\n",
    "    def __init__(self,n,a,w):\n",
    "        self.name = n\n",
    "        self.age = a\n",
    "        self.__weight = w\n",
    "    def speak(self):\n",
    "        print(\"%s 说: 我 %d 岁。\" %(self.name,self.age))\n",
    " \n",
    "# 实例化类\n",
    "p = people('runoob',10,30)\n",
    "p.speak()\n",
    "\n",
    "#单继承示例\n",
    "class student(people):\n",
    "    #grade = ''\n",
    "    def __init__(self,n,a,w,g):\n",
    "        #调用父类的构函\n",
    "        people.__init__(self,n,a,w)\n",
    "        self.grade = g\n",
    "    #覆写父类的方法\n",
    "    def speak(self):\n",
    "        print(\"%s 说: 我 %d 岁了，我在读 %d 年级\"%(self.name,self.age,self.grade))\n",
    " \n",
    "s = student('ken',10,60,3)\n",
    "s.speak()\n",
    "\n",
    "class speaker():\n",
    "    #topic = ''\n",
    "    #name = ''\n",
    "    def __init__(self,n,t):\n",
    "        self.name = n\n",
    "        self.topic = t\n",
    "    def speak(self):\n",
    "        print(\"我叫 %s，我是一个演说家，我演讲的主题是 %s\"%(self.name,self.topic))\n",
    "\n",
    "#多继承\n",
    "class sample(speaker,student):\n",
    "    a =''\n",
    "    def __init__(self,n,a,w,g,t):\n",
    "        student.__init__(self,n,a,w,g)\n",
    "        speaker.__init__(self,n,t)\n",
    " \n",
    "test = sample(\"Tim\",25,80,4,\"Python\")\n",
    "test.speak()   #方法名同，默认调用的是在括号中参数位置排前父类的方法"
   ]
  },
  {
   "cell_type": "code",
   "execution_count": 11,
   "metadata": {},
   "outputs": [
    {
     "name": "stdout",
     "output_type": "stream",
     "text": [
      "调用子类方法\n",
      "调用父类方法\n"
     ]
    }
   ],
   "source": [
    "class Parent:        # 定义父类\n",
    "   def myMethod(self):\n",
    "      print ('调用父类方法')\n",
    " \n",
    "class Child(Parent): # 定义子类\n",
    "   def myMethod(self):\n",
    "      print ('调用子类方法')\n",
    " \n",
    "c = Child()          # 子类实例\n",
    "c.myMethod()         # 子类调用重写方法\n",
    "super(Child,c).myMethod() #用子类对象调用父类已被覆盖的方法"
   ]
  },
  {
   "cell_type": "code",
   "execution_count": 12,
   "metadata": {},
   "outputs": [
    {
     "name": "stdout",
     "output_type": "stream",
     "text": [
      "1\n",
      "2\n",
      "2\n"
     ]
    },
    {
     "ename": "AttributeError",
     "evalue": "'JustCounter' object has no attribute '__secretCount'",
     "output_type": "error",
     "traceback": [
      "\u001b[1;31m---------------------------------------------------------------------------\u001b[0m",
      "\u001b[1;31mAttributeError\u001b[0m                            Traceback (most recent call last)",
      "Cell \u001b[1;32mIn[12], line 14\u001b[0m\n\u001b[0;32m     12\u001b[0m counter\u001b[38;5;241m.\u001b[39mcount()\n\u001b[0;32m     13\u001b[0m \u001b[38;5;28mprint\u001b[39m (counter\u001b[38;5;241m.\u001b[39mpublicCount)\n\u001b[1;32m---> 14\u001b[0m \u001b[38;5;28mprint\u001b[39m (counter\u001b[38;5;241m.\u001b[39m__secretCount)\n",
      "\u001b[1;31mAttributeError\u001b[0m: 'JustCounter' object has no attribute '__secretCount'"
     ]
    }
   ],
   "source": [
    "class JustCounter:\n",
    "    __secretCount = 0  # 私有变量\n",
    "    publicCount = 0    # 公开变量\n",
    " \n",
    "    def count(self):\n",
    "        self.__secretCount += 1\n",
    "        self.publicCount += 1\n",
    "        print (self.__secretCount)\n",
    " \n",
    "counter = JustCounter()\n",
    "counter.count()\n",
    "counter.count()\n",
    "print (counter.publicCount)\n",
    "print (counter.__secretCount)  # 报错，实例不能访问私有变量"
   ]
  },
  {
   "cell_type": "code",
   "execution_count": null,
   "metadata": {},
   "outputs": [
    {
     "name": "stdout",
     "output_type": "stream",
     "text": [
      "name  :  菜鸟教程\n",
      "url :  www.runoob.com\n",
      "这是公共方法\n",
      "这是私有方法\n"
     ]
    },
    {
     "ename": "AttributeError",
     "evalue": "'Site' object has no attribute '__foo'",
     "output_type": "error",
     "traceback": [
      "\u001b[1;31m---------------------------------------------------------------------------\u001b[0m",
      "\u001b[1;31mAttributeError\u001b[0m                            Traceback (most recent call last)",
      "Cell \u001b[1;32mIn[14], line 20\u001b[0m\n\u001b[0;32m     18\u001b[0m x\u001b[38;5;241m.\u001b[39mwho()        \u001b[38;5;66;03m# 正常输出\u001b[39;00m\n\u001b[0;32m     19\u001b[0m x\u001b[38;5;241m.\u001b[39mfoo()        \u001b[38;5;66;03m# 正常输出\u001b[39;00m\n\u001b[1;32m---> 20\u001b[0m x\u001b[38;5;241m.\u001b[39m__foo()\n",
      "\u001b[1;31mAttributeError\u001b[0m: 'Site' object has no attribute '__foo'"
     ]
    }
   ],
   "source": [
    "class Site:\n",
    "    def __init__(self, name, url):\n",
    "        self.name = name       # public\n",
    "        self.__url = url   # private\n",
    " \n",
    "    def who(self):\n",
    "        print('name  : ', self.name)\n",
    "        print('url : ', self.__url)\n",
    " \n",
    "    def __foo(self):          # 私有方法\n",
    "        print('这是私有方法')\n",
    " \n",
    "    def foo(self):            # 公共方法\n",
    "        print('这是公共方法')\n",
    "        self.__foo()                                #公有方法里调用私有方法\n",
    " \n",
    "x = Site('菜鸟教程', 'www.runoob.com')\n",
    "x.who()        # 正常输出\n",
    "x.foo()        # 正常输出\n",
    "x.__foo()      # 报错"
   ]
  },
  {
   "cell_type": "code",
   "execution_count": 22,
   "metadata": {},
   "outputs": [
    {
     "name": "stdout",
     "output_type": "stream",
     "text": [
      "Vector (7, 8)\n"
     ]
    }
   ],
   "source": [
    "class Vector:\n",
    "   def __init__(self, a, b):\n",
    "      self.a = a\n",
    "      self.b = b\n",
    " \n",
    "   def __str__(self):\n",
    "      return 'Vector (%d, %d)' % (self.a, self.b)\n",
    "   \n",
    "   def __add__(self, other):\n",
    "      return Vector(self.a + other.a, self.b + other.b)           #?????\n",
    " \n",
    "v1 = Vector(2,10)\n",
    "v2 = Vector(5,-2)\n",
    "v3 = Vector(3,4)\n",
    "print(v1.__add__(v2))"
   ]
  },
  {
   "cell_type": "code",
   "execution_count": 3,
   "metadata": {},
   "outputs": [
    {
     "name": "stdout",
     "output_type": "stream",
     "text": [
      "1\n",
      "123\n",
      "123\n",
      "100\n",
      "100\n"
     ]
    }
   ],
   "source": [
    "num = 1\n",
    "def fun1():\n",
    "    global num  # 需要使用 global 关键字声明\n",
    "    print(num) \n",
    "    num = 123\n",
    "    print(num)\n",
    "fun1()\n",
    "print(num)\n",
    "\n",
    "def outer():\n",
    "    num = 10\n",
    "    def inner():\n",
    "        nonlocal num   # nonlocal关键字声明\n",
    "        num = 100\n",
    "        print(num)\n",
    "    inner()\n",
    "    print(num)\n",
    "outer()"
   ]
  },
  {
   "cell_type": "code",
   "execution_count": 4,
   "metadata": {},
   "outputs": [
    {
     "name": "stdout",
     "output_type": "stream",
     "text": [
      "当前工作目录: c:\\Users\\Administrator\\Desktop\\IBI\\ElectrophoresisZ.github.io\\TEST_FOR_ME\n",
      "目录下的文件: ['test1.ipynb', 'test1.py', 'test1.txt', 'test2.ipynb', 'test2.py', 'test2.txt']\n"
     ]
    }
   ],
   "source": [
    "import os\n",
    "\n",
    "# 获取当前工作目录\n",
    "current_dir = os.getcwd()\n",
    "print(\"当前工作目录:\", current_dir)\n",
    "\n",
    "# 列出目录下的文件\n",
    "files = os.listdir(current_dir)\n",
    "print(\"目录下的文件:\", files)"
   ]
  },
  {
   "cell_type": "code",
   "execution_count": 15,
   "metadata": {},
   "outputs": [
    {
     "name": "stdout",
     "output_type": "stream",
     "text": [
      "banana\n",
      "[35, 79, 90, 74, 44, 7, 9, 31, 67, 92]\n",
      "0.5666914094876613\n"
     ]
    },
    {
     "data": {
      "text/plain": [
       "4"
      ]
     },
     "execution_count": 15,
     "metadata": {},
     "output_type": "execute_result"
    }
   ],
   "source": [
    "import glob\n",
    "\n",
    "glob.glob('*.py')\n",
    "\n",
    "import random\n",
    "\n",
    "print(random.choice(['apple', 'pear', 'banana']))\n",
    "print(random.sample(range(100), 10))   # sampling without replacement\n",
    "print(random.random())    # random float\n",
    "random.randrange(6)    # random integer chosen from range(6)\n",
    "4"
   ]
  },
  {
   "cell_type": "code",
   "execution_count": null,
   "metadata": {},
   "outputs": [],
   "source": [
    "from urllib.request import urlopen                 \n",
    "\n",
    "for line in urlopen('http://tycho.usno.navy.mil/cgi-bin/timer.pl'):\n",
    "    line = line.decode('utf-8')  # Decoding the binary data to text.\n",
    "    if 'EST' in line or 'EDT' in line:  # look for Eastern Time\n",
    "       print(line)\n",
    "\n",
    "import smtplib\n",
    "server = smtplib.SMTP('localhost')\n",
    "server.sendmail('soothsayer@example.org', 'jcaesar@example.org',\n",
    "\"\"\"To: jcaesar@example.org\n",
    "From: soothsayer@example.org\n",
    "\n",
    " Beware the Ides of March.\n",
    "\"\"\")\n",
    "server.quit()\n"
   ]
  },
  {
   "cell_type": "code",
   "execution_count": 25,
   "metadata": {},
   "outputs": [
    {
     "name": "stdout",
     "output_type": "stream",
     "text": [
      "2025-03-20 22:04:58.611802\n",
      "2025-03-20\n",
      "2025-03-20 22:04:58\n",
      "2025-03-20\n"
     ]
    },
    {
     "data": {
      "text/plain": [
       "6784"
      ]
     },
     "execution_count": 25,
     "metadata": {},
     "output_type": "execute_result"
    }
   ],
   "source": [
    "import datetime\n",
    "\n",
    "#获取当前日期和时间\n",
    "current_datetime = datetime.datetime.now()\n",
    "print(current_datetime)\n",
    "\n",
    "# 获取当前日期\n",
    "current_date = datetime.date.today()\n",
    "print(current_date)\n",
    "\n",
    "# 格式化日期\n",
    "formatted_datetime = current_datetime.strftime(\"%Y-%m-%d %H:%M:%S\")\n",
    "print(formatted_datetime)\n",
    "\n",
    "from datetime import date\n",
    "\n",
    "now = date.today()\n",
    "print(now)\n",
    "birthday =  date(2006,8,23)\n",
    "age = now - birthday\n",
    "age.days"
   ]
  },
  {
   "cell_type": "code",
   "execution_count": null,
   "metadata": {},
   "outputs": [
    {
     "name": "stdout",
     "output_type": "stream",
     "text": [
      "41\n",
      "37\n",
      "b'witch which has which witches wrist watch'\n"
     ]
    },
    {
     "data": {
      "text/plain": [
       "0.028525000205263495"
      ]
     },
     "execution_count": 24,
     "metadata": {},
     "output_type": "execute_result"
    }
   ],
   "source": [
    "import zlib\n",
    "s = b'witch which has which witches wrist watch'               \n",
    "print(len(s))\n",
    "\n",
    "t = zlib.compress(s)                                          \n",
    "print(len(t))\n",
    "print(zlib.decompress(t))\n",
    "\n",
    "from timeit import Timer\n",
    "Timer('t=a; a=b; b=t', 'a=1; b=2').timeit()     #计算代码执行耗时"
   ]
  }
 ],
 "metadata": {
  "kernelspec": {
   "display_name": "base",
   "language": "python",
   "name": "python3"
  },
  "language_info": {
   "codemirror_mode": {
    "name": "ipython",
    "version": 3
   },
   "file_extension": ".py",
   "mimetype": "text/x-python",
   "name": "python",
   "nbconvert_exporter": "python",
   "pygments_lexer": "ipython3",
   "version": "3.12.7"
  }
 },
 "nbformat": 4,
 "nbformat_minor": 2
}
