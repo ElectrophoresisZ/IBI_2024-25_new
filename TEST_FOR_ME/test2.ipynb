{
 "cells": [
  {
   "cell_type": "code",
   "execution_count": 2,
   "metadata": {},
   "outputs": [
    {
     "name": "stdout",
     "output_type": "stream",
     "text": [
      "27\n",
      "24\n",
      "24\n"
     ]
    }
   ],
   "source": [
    "start_temperature = 21\n",
    "set_point1 = 25\n",
    "\n",
    "def switch_on(start_tem, set_point):\n",
    "    if set_point - start_tem > 1:\n",
    "        start_tem +=6\n",
    "        print(start_tem)\n",
    "        switch_on(start_tem, set_point)\n",
    "    if start_tem - set_point > 1:\n",
    "        switch_off(start_tem)\n",
    "\n",
    "def switch_off(start_tem):\n",
    "    start_tem -=3\n",
    "    print(start_tem)\n",
    "\n",
    "switch_on(start_temperature, set_point1)\n"
   ]
  }
 ],
 "metadata": {
  "kernelspec": {
   "display_name": "base",
   "language": "python",
   "name": "python3"
  },
  "language_info": {
   "codemirror_mode": {
    "name": "ipython",
    "version": 3
   },
   "file_extension": ".py",
   "mimetype": "text/x-python",
   "name": "python",
   "nbconvert_exporter": "python",
   "pygments_lexer": "ipython3",
   "version": "3.12.7"
  }
 },
 "nbformat": 4,
 "nbformat_minor": 2
}
